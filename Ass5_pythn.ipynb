{
  "nbformat": 4,
  "nbformat_minor": 0,
  "metadata": {
    "colab": {
      "name": "Ass5 pythn.ipynb",
      "provenance": []
    },
    "kernelspec": {
      "name": "python3",
      "display_name": "Python 3"
    },
    "language_info": {
      "name": "python"
    }
  },
  "cells": [
    {
      "cell_type": "code",
      "metadata": {
        "colab": {
          "base_uri": "https://localhost:8080/"
        },
        "id": "jhd0wgOPxEWZ",
        "outputId": "fa64fdac-7231-4d9a-8025-de5450528d12"
      },
      "source": [
        "#check if number is prime or not\n",
        "def prime(no):\n",
        "\n",
        "  if no > 1:\n",
        "\n",
        "    for i in range(2, no):\n",
        "      if (no % i) == 0:\n",
        "        print(no, \"is not prime\")\n",
        "        break\n",
        "      else:\n",
        "        print(no, \"is a prime number\")\n",
        "        break\n",
        "\n",
        "  else:\n",
        "     print(\"Enter a postive number. \")\n",
        "      \n",
        "      \n",
        "      \n",
        "no=int(input('Enter a number '))\n",
        "prime(no)\n",
        " "
      ],
      "execution_count": 16,
      "outputs": [
        {
          "output_type": "stream",
          "text": [
            "Enter a number 93\n",
            "93 is a prime number\n"
          ],
          "name": "stdout"
        }
      ]
    },
    {
      "cell_type": "code",
      "metadata": {
        "colab": {
          "base_uri": "https://localhost:8080/"
        },
        "id": "ouNaIXHfuRHH",
        "outputId": "fee0c404-2653-4a5d-ad65-ae42852e5eb2"
      },
      "source": [
        "! pip install pytube3"
      ],
      "execution_count": 14,
      "outputs": [
        {
          "output_type": "stream",
          "text": [
            "Requirement already satisfied: pytube3 in /usr/local/lib/python3.7/dist-packages (9.6.4)\n",
            "Requirement already satisfied: typing-extensions in /usr/local/lib/python3.7/dist-packages (from pytube3) (3.7.4.3)\n"
          ],
          "name": "stdout"
        }
      ]
    },
    {
      "cell_type": "code",
      "metadata": {
        "id": "wjR0H20muagF"
      },
      "source": [
        "from pytube import YouTube\n",
        "\n",
        "video = YouTube(input(\"Enter the link of that video : \"))\n",
        "\n",
        "print(video.title)\n",
        "\n",
        "streams = video.streams\n",
        "\n",
        "for stream in streams:\n",
        "    print(stream)\n",
        "\n",
        "stream = video.streams.get_by_itag(\n",
        "    input(\"Enter the itag number you see below for the preferred quality : \"))\n",
        "\n",
        "\n",
        "file_size = stream.filesize\n",
        "\n",
        "print(round(file_size/(1024*1024)), \" MB\")\n",
        "\n",
        "print(\"Download Started ... wait for a while....\")\n",
        "print(\"Download Successfully Compledted !\")"
      ],
      "execution_count": null,
      "outputs": []
    },
    {
      "cell_type": "code",
      "metadata": {
        "id": "QFNRCBjJuaoU"
      },
      "source": [
        ""
      ],
      "execution_count": null,
      "outputs": []
    },
    {
      "cell_type": "code",
      "metadata": {
        "id": "cX3WmgPAuaw7"
      },
      "source": [
        ""
      ],
      "execution_count": null,
      "outputs": []
    },
    {
      "cell_type": "code",
      "metadata": {
        "id": "j3BQUPr9ua5q"
      },
      "source": [
        ""
      ],
      "execution_count": null,
      "outputs": []
    },
    {
      "cell_type": "code",
      "metadata": {
        "id": "JKsCfgnCubB8"
      },
      "source": [
        ""
      ],
      "execution_count": null,
      "outputs": []
    },
    {
      "cell_type": "code",
      "metadata": {
        "id": "Lal80OqWubJN"
      },
      "source": [
        ""
      ],
      "execution_count": null,
      "outputs": []
    }
  ]
}